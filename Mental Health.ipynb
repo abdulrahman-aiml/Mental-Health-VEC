{
 "cells": [
  {
   "cell_type": "code",
   "execution_count": 1,
   "id": "8fa0a918",
   "metadata": {},
   "outputs": [
    {
     "name": "stderr",
     "output_type": "stream",
     "text": [
      "[nltk_data] Downloading package stopwords to C:\\Users\\admin\n",
      "[nltk_data]     dell\\AppData\\Roaming\\nltk_data...\n",
      "[nltk_data]   Package stopwords is already up-to-date!\n",
      "[nltk_data] Downloading package punkt to C:\\Users\\admin\n",
      "[nltk_data]     dell\\AppData\\Roaming\\nltk_data...\n",
      "[nltk_data]   Package punkt is already up-to-date!\n"
     ]
    }
   ],
   "source": [
    "import numpy as np\n",
    "import pandas as pd\n",
    "import matplotlib.pyplot as plt\n",
    "import seaborn as sns\n",
    "import nltk # spacy\n",
    "import re # removing the special characters\n",
    "nltk.download('stopwords')\n",
    "from nltk.corpus import stopwords\n",
    "from nltk.stem import WordNetLemmatizer\n",
    "nltk.download(\"punkt\")\n",
    "from nltk.tokenize import word_tokenize\n",
    "from sklearn.feature_extraction.text import TfidfVectorizer"
   ]
  },
  {
   "cell_type": "code",
   "execution_count": 2,
   "id": "207ded22",
   "metadata": {},
   "outputs": [
    {
     "data": {
      "text/html": [
       "<div>\n",
       "<style scoped>\n",
       "    .dataframe tbody tr th:only-of-type {\n",
       "        vertical-align: middle;\n",
       "    }\n",
       "\n",
       "    .dataframe tbody tr th {\n",
       "        vertical-align: top;\n",
       "    }\n",
       "\n",
       "    .dataframe thead th {\n",
       "        text-align: right;\n",
       "    }\n",
       "</style>\n",
       "<table border=\"1\" class=\"dataframe\">\n",
       "  <thead>\n",
       "    <tr style=\"text-align: right;\">\n",
       "      <th></th>\n",
       "      <th>text</th>\n",
       "      <th>label</th>\n",
       "    </tr>\n",
       "  </thead>\n",
       "  <tbody>\n",
       "    <tr>\n",
       "      <th>0</th>\n",
       "      <td>dear american teens question dutch person hear...</td>\n",
       "      <td>0</td>\n",
       "    </tr>\n",
       "    <tr>\n",
       "      <th>1</th>\n",
       "      <td>nothing look forward lifei dont many reasons k...</td>\n",
       "      <td>1</td>\n",
       "    </tr>\n",
       "    <tr>\n",
       "      <th>2</th>\n",
       "      <td>music recommendations im looking expand playli...</td>\n",
       "      <td>0</td>\n",
       "    </tr>\n",
       "    <tr>\n",
       "      <th>3</th>\n",
       "      <td>im done trying feel betterthe reason im still ...</td>\n",
       "      <td>1</td>\n",
       "    </tr>\n",
       "    <tr>\n",
       "      <th>4</th>\n",
       "      <td>worried  year old girl subject domestic physic...</td>\n",
       "      <td>1</td>\n",
       "    </tr>\n",
       "    <tr>\n",
       "      <th>...</th>\n",
       "      <td>...</td>\n",
       "      <td>...</td>\n",
       "    </tr>\n",
       "    <tr>\n",
       "      <th>27972</th>\n",
       "      <td>posting everyday people stop caring  religion ...</td>\n",
       "      <td>0</td>\n",
       "    </tr>\n",
       "    <tr>\n",
       "      <th>27973</th>\n",
       "      <td>okay definetly need hear guys opinion ive pret...</td>\n",
       "      <td>0</td>\n",
       "    </tr>\n",
       "    <tr>\n",
       "      <th>27974</th>\n",
       "      <td>cant get dog think ill kill myselfthe last thi...</td>\n",
       "      <td>1</td>\n",
       "    </tr>\n",
       "    <tr>\n",
       "      <th>27975</th>\n",
       "      <td>whats point princess bridei really think like ...</td>\n",
       "      <td>1</td>\n",
       "    </tr>\n",
       "    <tr>\n",
       "      <th>27976</th>\n",
       "      <td>got nudes person might might know snapchat do ...</td>\n",
       "      <td>0</td>\n",
       "    </tr>\n",
       "  </tbody>\n",
       "</table>\n",
       "<p>27977 rows × 2 columns</p>\n",
       "</div>"
      ],
      "text/plain": [
       "                                                    text  label\n",
       "0      dear american teens question dutch person hear...      0\n",
       "1      nothing look forward lifei dont many reasons k...      1\n",
       "2      music recommendations im looking expand playli...      0\n",
       "3      im done trying feel betterthe reason im still ...      1\n",
       "4      worried  year old girl subject domestic physic...      1\n",
       "...                                                  ...    ...\n",
       "27972  posting everyday people stop caring  religion ...      0\n",
       "27973  okay definetly need hear guys opinion ive pret...      0\n",
       "27974  cant get dog think ill kill myselfthe last thi...      1\n",
       "27975  whats point princess bridei really think like ...      1\n",
       "27976  got nudes person might might know snapchat do ...      0\n",
       "\n",
       "[27977 rows x 2 columns]"
      ]
     },
     "execution_count": 2,
     "metadata": {},
     "output_type": "execute_result"
    }
   ],
   "source": [
    "df=pd.read_csv(r'C:\\Users\\admin dell\\Desktop\\mentoring folder\\mental health\\mental_health.csv')\n",
    "df"
   ]
  },
  {
   "cell_type": "code",
   "execution_count": 3,
   "id": "f45a4795",
   "metadata": {},
   "outputs": [
    {
     "data": {
      "text/plain": [
       "(27977, 2)"
      ]
     },
     "execution_count": 3,
     "metadata": {},
     "output_type": "execute_result"
    }
   ],
   "source": [
    "df.shape"
   ]
  },
  {
   "cell_type": "code",
   "execution_count": 4,
   "id": "12695794",
   "metadata": {},
   "outputs": [
    {
     "data": {
      "text/plain": [
       "text     object\n",
       "label     int64\n",
       "dtype: object"
      ]
     },
     "execution_count": 4,
     "metadata": {},
     "output_type": "execute_result"
    }
   ],
   "source": [
    "df.dtypes"
   ]
  },
  {
   "cell_type": "code",
   "execution_count": 5,
   "id": "930e3e0e",
   "metadata": {},
   "outputs": [
    {
     "data": {
      "text/plain": [
       "array([0, 1])"
      ]
     },
     "execution_count": 5,
     "metadata": {},
     "output_type": "execute_result"
    }
   ],
   "source": [
    "df['label'].unique()"
   ]
  },
  {
   "cell_type": "code",
   "execution_count": 6,
   "id": "b74e6e1c",
   "metadata": {},
   "outputs": [
    {
     "data": {
      "text/plain": [
       "label\n",
       "0    14139\n",
       "1    13838\n",
       "Name: count, dtype: int64"
      ]
     },
     "execution_count": 6,
     "metadata": {},
     "output_type": "execute_result"
    }
   ],
   "source": [
    "df['label'].value_counts()"
   ]
  },
  {
   "cell_type": "code",
   "execution_count": 7,
   "id": "a4a2a51d",
   "metadata": {},
   "outputs": [
    {
     "data": {
      "text/html": [
       "<div>\n",
       "<style scoped>\n",
       "    .dataframe tbody tr th:only-of-type {\n",
       "        vertical-align: middle;\n",
       "    }\n",
       "\n",
       "    .dataframe tbody tr th {\n",
       "        vertical-align: top;\n",
       "    }\n",
       "\n",
       "    .dataframe thead th {\n",
       "        text-align: right;\n",
       "    }\n",
       "</style>\n",
       "<table border=\"1\" class=\"dataframe\">\n",
       "  <thead>\n",
       "    <tr style=\"text-align: right;\">\n",
       "      <th></th>\n",
       "      <th>text</th>\n",
       "      <th>label</th>\n",
       "    </tr>\n",
       "  </thead>\n",
       "  <tbody>\n",
       "    <tr>\n",
       "      <th>count</th>\n",
       "      <td>27977</td>\n",
       "      <td>27977.000000</td>\n",
       "    </tr>\n",
       "    <tr>\n",
       "      <th>unique</th>\n",
       "      <td>27972</td>\n",
       "      <td>NaN</td>\n",
       "    </tr>\n",
       "    <tr>\n",
       "      <th>top</th>\n",
       "      <td>real suppleroot hours  up day far</td>\n",
       "      <td>NaN</td>\n",
       "    </tr>\n",
       "    <tr>\n",
       "      <th>freq</th>\n",
       "      <td>3</td>\n",
       "      <td>NaN</td>\n",
       "    </tr>\n",
       "    <tr>\n",
       "      <th>mean</th>\n",
       "      <td>NaN</td>\n",
       "      <td>0.494621</td>\n",
       "    </tr>\n",
       "    <tr>\n",
       "      <th>std</th>\n",
       "      <td>NaN</td>\n",
       "      <td>0.499980</td>\n",
       "    </tr>\n",
       "    <tr>\n",
       "      <th>min</th>\n",
       "      <td>NaN</td>\n",
       "      <td>0.000000</td>\n",
       "    </tr>\n",
       "    <tr>\n",
       "      <th>25%</th>\n",
       "      <td>NaN</td>\n",
       "      <td>0.000000</td>\n",
       "    </tr>\n",
       "    <tr>\n",
       "      <th>50%</th>\n",
       "      <td>NaN</td>\n",
       "      <td>0.000000</td>\n",
       "    </tr>\n",
       "    <tr>\n",
       "      <th>75%</th>\n",
       "      <td>NaN</td>\n",
       "      <td>1.000000</td>\n",
       "    </tr>\n",
       "    <tr>\n",
       "      <th>max</th>\n",
       "      <td>NaN</td>\n",
       "      <td>1.000000</td>\n",
       "    </tr>\n",
       "  </tbody>\n",
       "</table>\n",
       "</div>"
      ],
      "text/plain": [
       "                                     text         label\n",
       "count                               27977  27977.000000\n",
       "unique                              27972           NaN\n",
       "top     real suppleroot hours  up day far           NaN\n",
       "freq                                    3           NaN\n",
       "mean                                  NaN      0.494621\n",
       "std                                   NaN      0.499980\n",
       "min                                   NaN      0.000000\n",
       "25%                                   NaN      0.000000\n",
       "50%                                   NaN      0.000000\n",
       "75%                                   NaN      1.000000\n",
       "max                                   NaN      1.000000"
      ]
     },
     "execution_count": 7,
     "metadata": {},
     "output_type": "execute_result"
    }
   ],
   "source": [
    "df.describe(include='all')"
   ]
  },
  {
   "cell_type": "code",
   "execution_count": 8,
   "id": "b63fb8e9",
   "metadata": {},
   "outputs": [
    {
     "data": {
      "text/plain": [
       "text     0\n",
       "label    0\n",
       "dtype: int64"
      ]
     },
     "execution_count": 8,
     "metadata": {},
     "output_type": "execute_result"
    }
   ],
   "source": [
    "df.isnull().sum()"
   ]
  },
  {
   "cell_type": "code",
   "execution_count": 9,
   "id": "84a2ea8b",
   "metadata": {},
   "outputs": [
    {
     "data": {
      "text/plain": [
       "np.int64(5)"
      ]
     },
     "execution_count": 9,
     "metadata": {},
     "output_type": "execute_result"
    }
   ],
   "source": [
    "df.duplicated().sum()"
   ]
  },
  {
   "cell_type": "code",
   "execution_count": 10,
   "id": "8d69867b",
   "metadata": {},
   "outputs": [
    {
     "name": "stdout",
     "output_type": "stream",
     "text": [
      "Number of Duplicates: 0\n"
     ]
    }
   ],
   "source": [
    "df = df.drop_duplicates()\n",
    "print('Number of Duplicates:', len(df[df.duplicated()]))\n",
    "\n"
   ]
  },
  {
   "cell_type": "code",
   "execution_count": 11,
   "id": "1fc41201",
   "metadata": {},
   "outputs": [
    {
     "data": {
      "text/plain": [
       "text     0\n",
       "label    0\n",
       "dtype: int64"
      ]
     },
     "execution_count": 11,
     "metadata": {},
     "output_type": "execute_result"
    }
   ],
   "source": [
    "df.isnull().sum()"
   ]
  },
  {
   "cell_type": "code",
   "execution_count": 12,
   "id": "47feb989",
   "metadata": {},
   "outputs": [],
   "source": [
    "def remove_stopwords(sentence):\n",
    "\n",
    "    # List of stopwords\n",
    "    stopwords = [\"a\", \"about\", \"above\", \"after\", \"again\", \"against\", \"all\", \"am\", \"an\", \"and\", \"any\",\n",
    "                 \"are\", \"as\", \"at\", \"be\", \"because\", \"been\", \"before\", \"being\", \"below\", \"between\", \n",
    "                 \"both\", \"but\", \"by\", \"could\", \"did\", \"do\", \"does\", \"doing\", \"down\", \"during\", \"each\",\n",
    "                 \"few\", \"for\", \"from\", \"further\", \"had\", \"has\", \"have\", \"having\", \"he\", \"he'd\", \"he'll\",\n",
    "                 \"he's\", \"her\", \"here\", \"here's\", \"hers\", \"herself\", \"him\", \"himself\", \"his\", \"how\", \"how's\",\n",
    "                 \"i\", \"i'd\", \"i'll\", \"i'm\", \"i've\", \"if\", \"in\", \"into\", \"is\", \"it\", \"it's\", \"its\", \"itself\", \n",
    "                 \"let's\", \"me\", \"more\", \"most\", \"my\", \"myself\", \"nor\", \"of\", \"on\", \"once\", \"only\", \"or\",\n",
    "                 \"other\", \"ought\", \"our\", \"ours\", \"ourselves\", \"out\", \"over\", \"own\", \"same\", \"she\", \n",
    "                 \"she'd\", \"she'll\", \"she's\", \"should\", \"so\", \"some\", \"such\", \"than\", \"that\", \"that's\",\n",
    "                 \"the\", \"their\", \"theirs\", \"them\", \"themselves\", \"then\", \"there\", \"there's\", \"these\", \n",
    "                 \"they\", \"they'd\", \"they'll\", \"they're\", \"they've\", \"this\", \"those\", \"through\", \"to\", \n",
    "                 \"too\", \"under\", \"until\", \"up\", \"very\", \"was\", \"we\", \"we'd\", \"we'll\", \"we're\", \"we've\", \n",
    "                 \"were\", \"what\", \"what's\", \"when\", \"when's\", \"where\", \"where's\", \"which\", \"while\", \"who\",\n",
    "                 \"who's\", \"whom\", \"why\", \"why's\", \"with\", \"would\", \"you\", \"you'd\", \"you'll\", \"you're\",\n",
    "                 \"you've\", \"your\", \"yours\", \"yourself\", \"yourselves\" ]\n",
    "\n",
    "    # Sentence converted to lowercase-only\n",
    "    sentence = sentence.lower()\n",
    "\n",
    "    words = sentence.split()\n",
    "    no_words = [w for w in words if w not in stopwords]\n",
    "    sentence = \" \".join(no_words)\n",
    "\n",
    "    return sentence"
   ]
  },
  {
   "cell_type": "code",
   "execution_count": 13,
   "id": "27ba4778",
   "metadata": {},
   "outputs": [
    {
     "name": "stderr",
     "output_type": "stream",
     "text": [
      "C:\\Users\\admin dell\\AppData\\Local\\Temp\\ipykernel_30216\\1728670533.py:1: SettingWithCopyWarning: \n",
      "A value is trying to be set on a copy of a slice from a DataFrame.\n",
      "Try using .loc[row_indexer,col_indexer] = value instead\n",
      "\n",
      "See the caveats in the documentation: https://pandas.pydata.org/pandas-docs/stable/user_guide/indexing.html#returning-a-view-versus-a-copy\n",
      "  df['text1'] = (df['text'].apply(remove_stopwords))\n"
     ]
    }
   ],
   "source": [
    "df['text1'] = (df['text'].apply(remove_stopwords))"
   ]
  },
  {
   "cell_type": "code",
   "execution_count": 14,
   "id": "661742b1",
   "metadata": {},
   "outputs": [
    {
     "data": {
      "text/html": [
       "<div>\n",
       "<style scoped>\n",
       "    .dataframe tbody tr th:only-of-type {\n",
       "        vertical-align: middle;\n",
       "    }\n",
       "\n",
       "    .dataframe tbody tr th {\n",
       "        vertical-align: top;\n",
       "    }\n",
       "\n",
       "    .dataframe thead th {\n",
       "        text-align: right;\n",
       "    }\n",
       "</style>\n",
       "<table border=\"1\" class=\"dataframe\">\n",
       "  <thead>\n",
       "    <tr style=\"text-align: right;\">\n",
       "      <th></th>\n",
       "      <th>pre-clean text</th>\n",
       "      <th>pre-clean len</th>\n",
       "      <th>post-clean text</th>\n",
       "      <th>post-clean len</th>\n",
       "    </tr>\n",
       "  </thead>\n",
       "  <tbody>\n",
       "    <tr>\n",
       "      <th>0</th>\n",
       "      <td>dear american teens question dutch person hear...</td>\n",
       "      <td>23</td>\n",
       "      <td>dear american teens question dutch person hear...</td>\n",
       "      <td>23</td>\n",
       "    </tr>\n",
       "    <tr>\n",
       "      <th>1</th>\n",
       "      <td>nothing look forward lifei dont many reasons k...</td>\n",
       "      <td>20</td>\n",
       "      <td>nothing look forward lifei dont many reasons k...</td>\n",
       "      <td>19</td>\n",
       "    </tr>\n",
       "    <tr>\n",
       "      <th>2</th>\n",
       "      <td>music recommendations im looking expand playli...</td>\n",
       "      <td>64</td>\n",
       "      <td>music recommendations im looking expand playli...</td>\n",
       "      <td>61</td>\n",
       "    </tr>\n",
       "    <tr>\n",
       "      <th>3</th>\n",
       "      <td>im done trying feel betterthe reason im still ...</td>\n",
       "      <td>100</td>\n",
       "      <td>im done trying feel betterthe reason im still ...</td>\n",
       "      <td>96</td>\n",
       "    </tr>\n",
       "    <tr>\n",
       "      <th>4</th>\n",
       "      <td>worried  year old girl subject domestic physic...</td>\n",
       "      <td>311</td>\n",
       "      <td>worried year old girl subject domestic physica...</td>\n",
       "      <td>296</td>\n",
       "    </tr>\n",
       "    <tr>\n",
       "      <th>5</th>\n",
       "      <td>hey rredflag sure right place post this goes  ...</td>\n",
       "      <td>61</td>\n",
       "      <td>hey rredflag sure right place post goes im cur...</td>\n",
       "      <td>57</td>\n",
       "    </tr>\n",
       "    <tr>\n",
       "      <th>6</th>\n",
       "      <td>feel like someone needs hear tonight feeling r...</td>\n",
       "      <td>79</td>\n",
       "      <td>feel like someone needs hear tonight feeling r...</td>\n",
       "      <td>69</td>\n",
       "    </tr>\n",
       "    <tr>\n",
       "      <th>7</th>\n",
       "      <td>deserve liveif died right noone would carei re...</td>\n",
       "      <td>51</td>\n",
       "      <td>deserve liveif died right noone carei real fri...</td>\n",
       "      <td>47</td>\n",
       "    </tr>\n",
       "    <tr>\n",
       "      <th>8</th>\n",
       "      <td>feels good ive set dateim killing friday nice ...</td>\n",
       "      <td>14</td>\n",
       "      <td>feels good ive set dateim killing friday nice ...</td>\n",
       "      <td>13</td>\n",
       "    </tr>\n",
       "    <tr>\n",
       "      <th>9</th>\n",
       "      <td>live guiltok made stupid random choice  its ge...</td>\n",
       "      <td>66</td>\n",
       "      <td>live guiltok made stupid random choice getting...</td>\n",
       "      <td>62</td>\n",
       "    </tr>\n",
       "    <tr>\n",
       "      <th>10</th>\n",
       "      <td>excercise motivated ngl cant wait get shape kn...</td>\n",
       "      <td>14</td>\n",
       "      <td>excercise motivated ngl cant wait get shape kn...</td>\n",
       "      <td>14</td>\n",
       "    </tr>\n",
       "    <tr>\n",
       "      <th>11</th>\n",
       "      <td>know youd rather laid big booty body hella pos...</td>\n",
       "      <td>13</td>\n",
       "      <td>know youd rather laid big booty body hella pos...</td>\n",
       "      <td>13</td>\n",
       "    </tr>\n",
       "    <tr>\n",
       "      <th>12</th>\n",
       "      <td>even time fuck  supposed mean</td>\n",
       "      <td>5</td>\n",
       "      <td>even time fuck supposed mean</td>\n",
       "      <td>5</td>\n",
       "    </tr>\n",
       "    <tr>\n",
       "      <th>13</th>\n",
       "      <td>usual hollywood stereotyped everyone movie but...</td>\n",
       "      <td>33</td>\n",
       "      <td>usual hollywood stereotyped everyone movie one...</td>\n",
       "      <td>31</td>\n",
       "    </tr>\n",
       "    <tr>\n",
       "      <th>14</th>\n",
       "      <td>think it nearly unbelievable film could made d...</td>\n",
       "      <td>61</td>\n",
       "      <td>think nearly unbelievable film made death pena...</td>\n",
       "      <td>55</td>\n",
       "    </tr>\n",
       "    <tr>\n",
       "      <th>15</th>\n",
       "      <td>trying rd time k krma special</td>\n",
       "      <td>6</td>\n",
       "      <td>trying rd time k krma special</td>\n",
       "      <td>6</td>\n",
       "    </tr>\n",
       "    <tr>\n",
       "      <th>16</th>\n",
       "      <td>guy coming sure wear f hey guy friend coming t...</td>\n",
       "      <td>127</td>\n",
       "      <td>guy coming sure wear f hey guy friend coming t...</td>\n",
       "      <td>122</td>\n",
       "    </tr>\n",
       "    <tr>\n",
       "      <th>17</th>\n",
       "      <td>one best episodes entire xfiles series creepy ...</td>\n",
       "      <td>59</td>\n",
       "      <td>one best episodes entire xfiles series creepy ...</td>\n",
       "      <td>58</td>\n",
       "    </tr>\n",
       "    <tr>\n",
       "      <th>18</th>\n",
       "      <td>good byehey you know sure hell know me goodbye...</td>\n",
       "      <td>190</td>\n",
       "      <td>good byehey know sure hell know goodbye probab...</td>\n",
       "      <td>179</td>\n",
       "    </tr>\n",
       "    <tr>\n",
       "      <th>19</th>\n",
       "      <td>tried put sugar coffee back spoon happy monday...</td>\n",
       "      <td>13</td>\n",
       "      <td>tried put sugar coffee back spoon happy monday...</td>\n",
       "      <td>13</td>\n",
       "    </tr>\n",
       "  </tbody>\n",
       "</table>\n",
       "</div>"
      ],
      "text/plain": [
       "                                       pre-clean text  pre-clean len  \\\n",
       "0   dear american teens question dutch person hear...             23   \n",
       "1   nothing look forward lifei dont many reasons k...             20   \n",
       "2   music recommendations im looking expand playli...             64   \n",
       "3   im done trying feel betterthe reason im still ...            100   \n",
       "4   worried  year old girl subject domestic physic...            311   \n",
       "5   hey rredflag sure right place post this goes  ...             61   \n",
       "6   feel like someone needs hear tonight feeling r...             79   \n",
       "7   deserve liveif died right noone would carei re...             51   \n",
       "8   feels good ive set dateim killing friday nice ...             14   \n",
       "9   live guiltok made stupid random choice  its ge...             66   \n",
       "10  excercise motivated ngl cant wait get shape kn...             14   \n",
       "11  know youd rather laid big booty body hella pos...             13   \n",
       "12                      even time fuck  supposed mean              5   \n",
       "13  usual hollywood stereotyped everyone movie but...             33   \n",
       "14  think it nearly unbelievable film could made d...             61   \n",
       "15                      trying rd time k krma special              6   \n",
       "16  guy coming sure wear f hey guy friend coming t...            127   \n",
       "17  one best episodes entire xfiles series creepy ...             59   \n",
       "18  good byehey you know sure hell know me goodbye...            190   \n",
       "19  tried put sugar coffee back spoon happy monday...             13   \n",
       "\n",
       "                                      post-clean text  post-clean len  \n",
       "0   dear american teens question dutch person hear...              23  \n",
       "1   nothing look forward lifei dont many reasons k...              19  \n",
       "2   music recommendations im looking expand playli...              61  \n",
       "3   im done trying feel betterthe reason im still ...              96  \n",
       "4   worried year old girl subject domestic physica...             296  \n",
       "5   hey rredflag sure right place post goes im cur...              57  \n",
       "6   feel like someone needs hear tonight feeling r...              69  \n",
       "7   deserve liveif died right noone carei real fri...              47  \n",
       "8   feels good ive set dateim killing friday nice ...              13  \n",
       "9   live guiltok made stupid random choice getting...              62  \n",
       "10  excercise motivated ngl cant wait get shape kn...              14  \n",
       "11  know youd rather laid big booty body hella pos...              13  \n",
       "12                       even time fuck supposed mean               5  \n",
       "13  usual hollywood stereotyped everyone movie one...              31  \n",
       "14  think nearly unbelievable film made death pena...              55  \n",
       "15                      trying rd time k krma special               6  \n",
       "16  guy coming sure wear f hey guy friend coming t...             122  \n",
       "17  one best episodes entire xfiles series creepy ...              58  \n",
       "18  good byehey know sure hell know goodbye probab...             179  \n",
       "19  tried put sugar coffee back spoon happy monday...              13  "
      ]
     },
     "execution_count": 14,
     "metadata": {},
     "output_type": "execute_result"
    }
   ],
   "source": [
    "df_comp = pd.DataFrame()\n",
    "\n",
    "# Original text and its length\n",
    "df_comp['pre-clean text'] = df['text']\n",
    "df_comp['pre-clean len'] = df['text'].apply(lambda x: len(str(x).split()))\n",
    "\n",
    "# Cleaned text and its length\n",
    "df_comp['post-clean text'] = df['text1']\n",
    "df_comp['post-clean len'] = df['text1'].apply(lambda x: len(str(x).split()))\n",
    "\n",
    "df_comp.head(20)"
   ]
  },
  {
   "cell_type": "code",
   "execution_count": 15,
   "id": "8624201f",
   "metadata": {},
   "outputs": [
    {
     "data": {
      "text/plain": [
       "([<matplotlib.patches.Wedge at 0x1bf67cd4200>,\n",
       "  <matplotlib.patches.Wedge at 0x1bf668f5850>],\n",
       " [Text(-0.6929626438867462, -0.854284949052417, '0'),\n",
       "  Text(0.7244610807383668, 0.8931159737096845, '1')],\n",
       " [Text(-0.37797962393822515, -0.4659736085740456, '50.5%'),\n",
       "  Text(0.4094780021564681, 0.5048046807924303, '49.5%')])"
      ]
     },
     "execution_count": 15,
     "metadata": {},
     "output_type": "execute_result"
    },
    {
     "data": {
      "image/png": "[encoded data removed]",
      "text/plain": [
       "<Figure size 500x600 with 1 Axes>"
      ]
     },
     "metadata": {},
     "output_type": "display_data"
    }
   ],
   "source": [
    "plt.figure(figsize=(5, 6))  # Set the size of the plot\n",
    "plt.pie(df['label'].value_counts(),labels = df['label'].value_counts().index,autopct='%1.1f%%',\n",
    "        explode=[0, 0.05] , startangle=140)"
   ]
  },
  {
   "cell_type": "code",
   "execution_count": 16,
   "id": "b1f99a84",
   "metadata": {},
   "outputs": [],
   "source": [
    "lemmatizer = WordNetLemmatizer()\n",
    "data=[]"
   ]
  },
  {
   "cell_type": "code",
   "execution_count": 17,
   "id": "3763f9ed",
   "metadata": {},
   "outputs": [
    {
     "data": {
      "text/plain": [
       "0        dear american teens question dutch person hear...\n",
       "1        nothing look forward lifei dont many reasons k...\n",
       "2        music recommendations im looking expand playli...\n",
       "3        im done trying feel betterthe reason im still ...\n",
       "4        worried year old girl subject domestic physica...\n",
       "                               ...                        \n",
       "27972    posting everyday people stop caring religion m...\n",
       "27973    okay definetly need hear guys opinion ive pret...\n",
       "27974    cant get dog think ill kill myselfthe last thi...\n",
       "27975    whats point princess bridei really think like ...\n",
       "27976    got nudes person might might know snapchat ok ...\n",
       "Name: text1, Length: 27972, dtype: object"
      ]
     },
     "execution_count": 17,
     "metadata": {},
     "output_type": "execute_result"
    }
   ],
   "source": [
    "\n",
    "\n",
    "msg=df['text1'].str.replace('[^a-zA-Z0-9]+',\" \")\n",
    "msg\n",
    "\n"
   ]
  },
  {
   "cell_type": "code",
   "execution_count": 18,
   "id": "f15a9b7b",
   "metadata": {
    "scrolled": true
   },
   "outputs": [
    {
     "name": "stderr",
     "output_type": "stream",
     "text": [
      "[nltk_data] Downloading package punkt to C:\\Users\\admin\n",
      "[nltk_data]     dell\\AppData\\Roaming\\nltk_data...\n",
      "[nltk_data]   Package punkt is already up-to-date!\n"
     ]
    }
   ],
   "source": [
    "import nltk\n",
    "nltk.download(\"punkt\")\n",
    "from nltk.tokenize import word_tokenize\n",
    "\n"
   ]
  },
  {
   "cell_type": "code",
   "execution_count": 19,
   "id": "867cfe1c",
   "metadata": {},
   "outputs": [
    {
     "data": {
      "text/plain": [
       "0        dear american teens question dutch person hear...\n",
       "1        nothing look forward lifei dont many reasons k...\n",
       "2        music recommendations im looking expand playli...\n",
       "3        im done trying feel betterthe reason im still ...\n",
       "4        worried year old girl subject domestic physica...\n",
       "                               ...                        \n",
       "27972    posting everyday people stop caring religion m...\n",
       "27973    okay definetly need hear guys opinion ive pret...\n",
       "27974    cant get dog think ill kill myselfthe last thi...\n",
       "27975    whats point princess bridei really think like ...\n",
       "27976    got nudes person might might know snapchat ok ...\n",
       "Name: text1, Length: 27972, dtype: object"
      ]
     },
     "execution_count": 19,
     "metadata": {},
     "output_type": "execute_result"
    }
   ],
   "source": [
    "msg"
   ]
  },
  {
   "cell_type": "code",
   "execution_count": 20,
   "id": "8c437f95",
   "metadata": {},
   "outputs": [
    {
     "name": "stderr",
     "output_type": "stream",
     "text": [
      "[nltk_data] Downloading package wordnet to C:\\Users\\admin\n",
      "[nltk_data]     dell\\AppData\\Roaming\\nltk_data...\n",
      "[nltk_data]   Package wordnet is already up-to-date!\n",
      "C:\\Users\\admin dell\\AppData\\Local\\Temp\\ipykernel_30216\\2369773857.py:20: SettingWithCopyWarning: \n",
      "A value is trying to be set on a copy of a slice from a DataFrame.\n",
      "Try using .loc[row_indexer,col_indexer] = value instead\n",
      "\n",
      "See the caveats in the documentation: https://pandas.pydata.org/pandas-docs/stable/user_guide/indexing.html#returning-a-view-versus-a-copy\n",
      "  df['preprocessed_text'] = msg.apply(preprocess_text)\n"
     ]
    }
   ],
   "source": [
    "import nltk\n",
    "nltk.download('wordnet')\n",
    "\n",
    "def preprocess_text(text):\n",
    "    # Tokenize the text\n",
    "    tokens = word_tokenize(text)\n",
    "    \n",
    "    # Filter tokens with length greater than 2\n",
    "    filtered_tokens = [token for token in tokens if len(token) > 3]\n",
    "    \n",
    "    # Stem each token\n",
    "    lemmed_tokens = [lemmatizer.lemmatize(token.lower()) for token in filtered_tokens]\n",
    "    \n",
    "    # Join stemmed tokens into a single string\n",
    "    preprocessed_text = \" \".join(lemmed_tokens)\n",
    "    \n",
    "    return preprocessed_text\n",
    "\n",
    "# Apply text preprocessing to each row of the DataFrame\n",
    "df['preprocessed_text'] = msg.apply(preprocess_text)"
   ]
  },
  {
   "cell_type": "code",
   "execution_count": 21,
   "id": "9d22a1dc",
   "metadata": {},
   "outputs": [
    {
     "data": {
      "text/plain": [
       "0        dear american teen question dutch person heard...\n",
       "1        nothing look forward lifei dont many reason ke...\n",
       "2        music recommendation looking expand playlist u...\n",
       "3        done trying feel betterthe reason still alive ...\n",
       "4        worried year girl subject domestic physicalmen...\n",
       "                               ...                        \n",
       "27972    posting everyday people stop caring religion m...\n",
       "27973    okay definetly need hear guy opinion pretty mu...\n",
       "27974    cant think kill myselfthe last thing holding f...\n",
       "27975    whats point princess bridei really think like ...\n",
       "27976    nude person might might know snapchat chick do...\n",
       "Name: preprocessed_text, Length: 27972, dtype: object"
      ]
     },
     "execution_count": 21,
     "metadata": {},
     "output_type": "execute_result"
    }
   ],
   "source": [
    "df['preprocessed_text']"
   ]
  },
  {
   "cell_type": "code",
   "execution_count": 22,
   "id": "912c64a6",
   "metadata": {},
   "outputs": [],
   "source": [
    "from sklearn.feature_extraction.text import TfidfVectorizer"
   ]
  },
  {
   "cell_type": "code",
   "execution_count": 23,
   "id": "9063790d",
   "metadata": {},
   "outputs": [
    {
     "name": "stdout",
     "output_type": "stream",
     "text": [
      "<Compressed Sparse Row sparse matrix of dtype 'float64'\n",
      "\twith 1276914 stored elements and shape (27972, 64957)>\n",
      "  Coords\tValues\n",
      "  (0, 13404)\t0.24571330954053142\n",
      "  (0, 2035)\t0.199821721271026\n",
      "  (0, 56380)\t0.19724860463328622\n",
      "  (0, 45538)\t0.16061333928873464\n",
      "  (0, 16696)\t0.30192215266333966\n",
      "  (0, 42525)\t0.12336996614882491\n",
      "  (0, 25556)\t0.18090450167539326\n",
      "  (0, 24579)\t0.28866749325503477\n",
      "  (0, 16871)\t0.1931658942544791\n",
      "  (0, 57112)\t0.09357092022133989\n",
      "  (0, 32541)\t0.38710833000785794\n",
      "  (0, 53016)\t0.333408091936624\n",
      "  (0, 57587)\t0.3691103136536291\n",
      "  (0, 23751)\t0.3218163641408936\n",
      "  (0, 33153)\t0.07120047465131332\n",
      "  (0, 48127)\t0.11450863396808476\n",
      "  (0, 35199)\t0.2179168918831764\n",
      "  (1, 33153)\t0.11560407181162077\n",
      "  (1, 39376)\t0.370441477504394\n",
      "  (1, 33865)\t0.20964990620453078\n",
      "  (1, 21462)\t0.29394841446828784\n",
      "  (1, 33017)\t0.39895041739964926\n",
      "  (1, 15899)\t0.17394477840569078\n",
      "  (1, 34898)\t0.20227650270068856\n",
      "  (1, 46356)\t0.20365015704848863\n",
      "  :\t:\n",
      "  (27970, 7133)\t0.18130945086112663\n",
      "  (27971, 42525)\t0.3048163201309516\n",
      "  (27971, 33865)\t0.10634374385560527\n",
      "  (27971, 15899)\t0.17646503444412262\n",
      "  (27971, 31801)\t0.3259219896074974\n",
      "  (27971, 18541)\t0.07383642183279883\n",
      "  (27971, 50547)\t0.1576899859123596\n",
      "  (27971, 49696)\t0.09970356359608541\n",
      "  (27971, 55480)\t0.10898956745713033\n",
      "  (27971, 52871)\t0.09082534537571785\n",
      "  (27971, 64137)\t0.11739039054412963\n",
      "  (27971, 20588)\t0.10043640693755482\n",
      "  (27971, 57391)\t0.0884427351973443\n",
      "  (27971, 667)\t0.10870681987697958\n",
      "  (27971, 11856)\t0.16192160523974086\n",
      "  (27971, 40461)\t0.1851589727894481\n",
      "  (27971, 28196)\t0.12356491090660507\n",
      "  (27971, 36319)\t0.345867386669538\n",
      "  (27971, 52452)\t0.21043343420150085\n",
      "  (27971, 47656)\t0.17963007384996993\n",
      "  (27971, 707)\t0.18943432438131677\n",
      "  (27971, 52449)\t0.19032264009954858\n",
      "  (27971, 39620)\t0.4283712654501409\n",
      "  (27971, 9317)\t0.2221510049795649\n",
      "  (27971, 64406)\t0.2785923921177531\n"
     ]
    }
   ],
   "source": [
    "\n",
    "\n",
    "from sklearn.feature_extraction.text import TfidfVectorizer\n",
    "tf=TfidfVectorizer()\n",
    "data_vec=tf.fit_transform(df['preprocessed_text'])\n",
    "print(data_vec)\n",
    "\n"
   ]
  },
  {
   "cell_type": "code",
   "execution_count": 24,
   "id": "73ae8726",
   "metadata": {},
   "outputs": [
    {
     "data": {
      "text/plain": [
       "['tf.pkl']"
      ]
     },
     "execution_count": 24,
     "metadata": {},
     "output_type": "execute_result"
    }
   ],
   "source": [
    "import joblib\n",
    "joblib.dump(tf, 'tf.pkl')"
   ]
  },
  {
   "cell_type": "code",
   "execution_count": 25,
   "id": "a90d8407",
   "metadata": {},
   "outputs": [
    {
     "name": "stderr",
     "output_type": "stream",
     "text": [
      "C:\\Users\\admin dell\\AppData\\Local\\Temp\\ipykernel_30216\\987295424.py:1: SettingWithCopyWarning: \n",
      "A value is trying to be set on a copy of a slice from a DataFrame.\n",
      "Try using .loc[row_indexer,col_indexer] = value instead\n",
      "\n",
      "See the caveats in the documentation: https://pandas.pydata.org/pandas-docs/stable/user_guide/indexing.html#returning-a-view-versus-a-copy\n",
      "  df['text_length'] = df['preprocessed_text'].apply(lambda x: len(str(x).split()))\n"
     ]
    }
   ],
   "source": [
    "df['text_length'] = df['preprocessed_text'].apply(lambda x: len(str(x).split()))\n",
    "\n"
   ]
  },
  {
   "cell_type": "code",
   "execution_count": 26,
   "id": "bbb4f305",
   "metadata": {},
   "outputs": [
    {
     "data": {
      "text/html": [
       "<div>\n",
       "<style scoped>\n",
       "    .dataframe tbody tr th:only-of-type {\n",
       "        vertical-align: middle;\n",
       "    }\n",
       "\n",
       "    .dataframe tbody tr th {\n",
       "        vertical-align: top;\n",
       "    }\n",
       "\n",
       "    .dataframe thead th {\n",
       "        text-align: right;\n",
       "    }\n",
       "</style>\n",
       "<table border=\"1\" class=\"dataframe\">\n",
       "  <thead>\n",
       "    <tr style=\"text-align: right;\">\n",
       "      <th></th>\n",
       "      <th>text</th>\n",
       "      <th>label</th>\n",
       "      <th>text1</th>\n",
       "      <th>preprocessed_text</th>\n",
       "      <th>text_length</th>\n",
       "    </tr>\n",
       "  </thead>\n",
       "  <tbody>\n",
       "    <tr>\n",
       "      <th>0</th>\n",
       "      <td>dear american teens question dutch person hear...</td>\n",
       "      <td>0</td>\n",
       "      <td>dear american teens question dutch person hear...</td>\n",
       "      <td>dear american teen question dutch person heard...</td>\n",
       "      <td>19</td>\n",
       "    </tr>\n",
       "    <tr>\n",
       "      <th>1</th>\n",
       "      <td>nothing look forward lifei dont many reasons k...</td>\n",
       "      <td>1</td>\n",
       "      <td>nothing look forward lifei dont many reasons k...</td>\n",
       "      <td>nothing look forward lifei dont many reason ke...</td>\n",
       "      <td>18</td>\n",
       "    </tr>\n",
       "    <tr>\n",
       "      <th>2</th>\n",
       "      <td>music recommendations im looking expand playli...</td>\n",
       "      <td>0</td>\n",
       "      <td>music recommendations im looking expand playli...</td>\n",
       "      <td>music recommendation looking expand playlist u...</td>\n",
       "      <td>48</td>\n",
       "    </tr>\n",
       "    <tr>\n",
       "      <th>3</th>\n",
       "      <td>im done trying feel betterthe reason im still ...</td>\n",
       "      <td>1</td>\n",
       "      <td>im done trying feel betterthe reason im still ...</td>\n",
       "      <td>done trying feel betterthe reason still alive ...</td>\n",
       "      <td>79</td>\n",
       "    </tr>\n",
       "    <tr>\n",
       "      <th>4</th>\n",
       "      <td>worried  year old girl subject domestic physic...</td>\n",
       "      <td>1</td>\n",
       "      <td>worried year old girl subject domestic physica...</td>\n",
       "      <td>worried year girl subject domestic physicalmen...</td>\n",
       "      <td>269</td>\n",
       "    </tr>\n",
       "  </tbody>\n",
       "</table>\n",
       "</div>"
      ],
      "text/plain": [
       "                                                text  label  \\\n",
       "0  dear american teens question dutch person hear...      0   \n",
       "1  nothing look forward lifei dont many reasons k...      1   \n",
       "2  music recommendations im looking expand playli...      0   \n",
       "3  im done trying feel betterthe reason im still ...      1   \n",
       "4  worried  year old girl subject domestic physic...      1   \n",
       "\n",
       "                                               text1  \\\n",
       "0  dear american teens question dutch person hear...   \n",
       "1  nothing look forward lifei dont many reasons k...   \n",
       "2  music recommendations im looking expand playli...   \n",
       "3  im done trying feel betterthe reason im still ...   \n",
       "4  worried year old girl subject domestic physica...   \n",
       "\n",
       "                                   preprocessed_text  text_length  \n",
       "0  dear american teen question dutch person heard...           19  \n",
       "1  nothing look forward lifei dont many reason ke...           18  \n",
       "2  music recommendation looking expand playlist u...           48  \n",
       "3  done trying feel betterthe reason still alive ...           79  \n",
       "4  worried year girl subject domestic physicalmen...          269  "
      ]
     },
     "execution_count": 26,
     "metadata": {},
     "output_type": "execute_result"
    }
   ],
   "source": [
    "df.head()"
   ]
  },
  {
   "cell_type": "code",
   "execution_count": 27,
   "id": "c95f9d82",
   "metadata": {},
   "outputs": [],
   "source": [
    "\n",
    "\n",
    "df = df.drop(['text', 'text1'], axis=1)\n",
    "\n"
   ]
  },
  {
   "cell_type": "code",
   "execution_count": 28,
   "id": "6cbb5dee",
   "metadata": {},
   "outputs": [
    {
     "data": {
      "text/html": [
       "<div>\n",
       "<style scoped>\n",
       "    .dataframe tbody tr th:only-of-type {\n",
       "        vertical-align: middle;\n",
       "    }\n",
       "\n",
       "    .dataframe tbody tr th {\n",
       "        vertical-align: top;\n",
       "    }\n",
       "\n",
       "    .dataframe thead th {\n",
       "        text-align: right;\n",
       "    }\n",
       "</style>\n",
       "<table border=\"1\" class=\"dataframe\">\n",
       "  <thead>\n",
       "    <tr style=\"text-align: right;\">\n",
       "      <th></th>\n",
       "      <th>label</th>\n",
       "      <th>preprocessed_text</th>\n",
       "      <th>text_length</th>\n",
       "    </tr>\n",
       "  </thead>\n",
       "  <tbody>\n",
       "    <tr>\n",
       "      <th>0</th>\n",
       "      <td>0</td>\n",
       "      <td>dear american teen question dutch person heard...</td>\n",
       "      <td>19</td>\n",
       "    </tr>\n",
       "    <tr>\n",
       "      <th>1</th>\n",
       "      <td>1</td>\n",
       "      <td>nothing look forward lifei dont many reason ke...</td>\n",
       "      <td>18</td>\n",
       "    </tr>\n",
       "    <tr>\n",
       "      <th>2</th>\n",
       "      <td>0</td>\n",
       "      <td>music recommendation looking expand playlist u...</td>\n",
       "      <td>48</td>\n",
       "    </tr>\n",
       "    <tr>\n",
       "      <th>3</th>\n",
       "      <td>1</td>\n",
       "      <td>done trying feel betterthe reason still alive ...</td>\n",
       "      <td>79</td>\n",
       "    </tr>\n",
       "    <tr>\n",
       "      <th>4</th>\n",
       "      <td>1</td>\n",
       "      <td>worried year girl subject domestic physicalmen...</td>\n",
       "      <td>269</td>\n",
       "    </tr>\n",
       "  </tbody>\n",
       "</table>\n",
       "</div>"
      ],
      "text/plain": [
       "   label                                  preprocessed_text  text_length\n",
       "0      0  dear american teen question dutch person heard...           19\n",
       "1      1  nothing look forward lifei dont many reason ke...           18\n",
       "2      0  music recommendation looking expand playlist u...           48\n",
       "3      1  done trying feel betterthe reason still alive ...           79\n",
       "4      1  worried year girl subject domestic physicalmen...          269"
      ]
     },
     "execution_count": 28,
     "metadata": {},
     "output_type": "execute_result"
    }
   ],
   "source": [
    "df.head()"
   ]
  },
  {
   "cell_type": "code",
   "execution_count": 29,
   "id": "3b8378c5",
   "metadata": {},
   "outputs": [
    {
     "data": {
      "text/plain": [
       "label\n",
       "0    14134\n",
       "1    13838\n",
       "Name: count, dtype: int64"
      ]
     },
     "execution_count": 29,
     "metadata": {},
     "output_type": "execute_result"
    }
   ],
   "source": [
    "\n",
    "\n",
    "df.label.value_counts()\n",
    "\n"
   ]
  },
  {
   "cell_type": "code",
   "execution_count": 30,
   "id": "1eecda6b",
   "metadata": {
    "scrolled": true
   },
   "outputs": [
    {
     "data": {
      "text/plain": [
       "array([0, 1, 0, ..., 1, 1, 0])"
      ]
     },
     "execution_count": 30,
     "metadata": {},
     "output_type": "execute_result"
    }
   ],
   "source": [
    "y=df['label'].values\n",
    "y"
   ]
  },
  {
   "cell_type": "code",
   "execution_count": 31,
   "id": "f519ce18",
   "metadata": {},
   "outputs": [],
   "source": [
    "from sklearn.model_selection import train_test_split\n",
    "x_train,x_test,y_train,y_test=train_test_split(data_vec,y,test_size=0.3,random_state=1)\n",
    "\n"
   ]
  },
  {
   "cell_type": "code",
   "execution_count": 32,
   "id": "62d5a8f4",
   "metadata": {},
   "outputs": [],
   "source": [
    "# from sklearn.svm import SVC\n",
    "# from sklearn.metrics import classification_report,accuracy_score\n",
    "# sv=SVC()\n",
    "# sv.fit(x_train,y_train)\n",
    "# y_pred=sv.predict(x_test)\n",
    "# print(classification_report(y_test,y_pred))\n"
   ]
  },
  {
   "cell_type": "code",
   "execution_count": 33,
   "id": "2211681a",
   "metadata": {},
   "outputs": [],
   "source": [
    "# sv_acc=accuracy_score(y_test,y_pred)\n",
    "# sv_acc"
   ]
  },
  {
   "cell_type": "code",
   "execution_count": 34,
   "id": "832d30e8",
   "metadata": {},
   "outputs": [],
   "source": [
    "# from sklearn.tree import DecisionTreeClassifier\n",
    "# Dt=DecisionTreeClassifier()\n",
    "# Dt.fit(x_train,y_train)\n",
    "# y_pred=Dt.predict(x_test)\n",
    "# print(classification_report(y_test,y_pred))\n",
    "# print(accuracy_score(y_test,y_pred))"
   ]
  },
  {
   "cell_type": "code",
   "execution_count": 35,
   "id": "2b50af8f",
   "metadata": {},
   "outputs": [],
   "source": [
    "# dt_acc=accuracy_score(y_test,y_pred)\n",
    "# dt_acc"
   ]
  },
  {
   "cell_type": "code",
   "execution_count": null,
   "id": "70b5da5d",
   "metadata": {},
   "outputs": [],
   "source": [
    "from sklearn.ensemble import RandomForestClassifier\n",
    "rf=RandomForestClassifier()\n",
    "rf.fit(x_train,y_train)\n",
    "y_pred=rf.predict(x_test)\n",
    "print(classification_report(y_test,y_pred))\n",
    "print(accuracy_score(y_test,y_pred))"
   ]
  },
  {
   "cell_type": "code",
   "execution_count": null,
   "id": "6cb0455a",
   "metadata": {},
   "outputs": [
    {
     "data": {
      "text/plain": [
       "0.8841754051477597"
      ]
     },
     "execution_count": 39,
     "metadata": {},
     "output_type": "execute_result"
    }
   ],
   "source": [
    "Rf_acc=accuracy_score(y_test,y_pred)\n",
    "Rf_acc"
   ]
  },
  {
   "cell_type": "code",
   "execution_count": null,
   "id": "75df6d7e",
   "metadata": {},
   "outputs": [
    {
     "name": "stdout",
     "output_type": "stream",
     "text": [
      "              precision    recall  f1-score   support\n",
      "\n",
      "           0       0.84      0.91      0.87      4271\n",
      "           1       0.89      0.81      0.85      4121\n",
      "\n",
      "    accuracy                           0.86      8392\n",
      "   macro avg       0.86      0.86      0.86      8392\n",
      "weighted avg       0.86      0.86      0.86      8392\n",
      "\n",
      "0.8617731172545281\n"
     ]
    }
   ],
   "source": [
    "from sklearn.ensemble import AdaBoostClassifier\n",
    "ab= AdaBoostClassifier()\n",
    "ab.fit(x_train,y_train)\n",
    "y_pred=ab.predict(x_test)\n",
    "print(classification_report(y_test,y_pred))\n",
    "print(accuracy_score(y_test,y_pred))"
   ]
  },
  {
   "cell_type": "code",
   "execution_count": null,
   "id": "09517577",
   "metadata": {
    "scrolled": true
   },
   "outputs": [
    {
     "data": {
      "text/plain": [
       "0.8617731172545281"
      ]
     },
     "execution_count": 41,
     "metadata": {},
     "output_type": "execute_result"
    }
   ],
   "source": [
    "ab_acc=accuracy_score(y_test,y_pred)\n",
    "ab_acc"
   ]
  },
  {
   "cell_type": "code",
   "execution_count": null,
   "id": "5b65f889",
   "metadata": {},
   "outputs": [
    {
     "name": "stdout",
     "output_type": "stream",
     "text": [
      "              precision    recall  f1-score   support\n",
      "\n",
      "           0       0.83      0.91      0.87      4271\n",
      "           1       0.90      0.81      0.85      4121\n",
      "\n",
      "    accuracy                           0.86      8392\n",
      "   macro avg       0.86      0.86      0.86      8392\n",
      "weighted avg       0.86      0.86      0.86      8392\n",
      "\n",
      "0.8604623450905624\n"
     ]
    }
   ],
   "source": [
    "from sklearn.ensemble import GradientBoostingClassifier\n",
    "gb=GradientBoostingClassifier()\n",
    "gb.fit(x_train,y_train)\n",
    "y_pred=gb.predict(x_test)\n",
    "print(classification_report(y_test,y_pred))\n",
    "print(accuracy_score(y_test,y_pred))\n"
   ]
  },
  {
   "cell_type": "code",
   "execution_count": null,
   "id": "0fdea8e2",
   "metadata": {},
   "outputs": [
    {
     "data": {
      "text/plain": [
       "0.8604623450905624"
      ]
     },
     "execution_count": 50,
     "metadata": {},
     "output_type": "execute_result"
    }
   ],
   "source": [
    "gb_acc=accuracy_score(y_test,y_pred)\n",
    "gb_acc"
   ]
  },
  {
   "cell_type": "code",
   "execution_count": null,
   "id": "d3831819",
   "metadata": {},
   "outputs": [
    {
     "name": "stdout",
     "output_type": "stream",
     "text": [
      "              precision    recall  f1-score   support\n",
      "\n",
      "           0       0.89      0.94      0.91      4271\n",
      "           1       0.93      0.88      0.90      4121\n",
      "\n",
      "    accuracy                           0.91      8392\n",
      "   macro avg       0.91      0.91      0.91      8392\n",
      "weighted avg       0.91      0.91      0.91      8392\n",
      "\n",
      "0.9072926596758818\n"
     ]
    }
   ],
   "source": [
    "from sklearn.linear_model import LogisticRegression\n",
    "lr=LogisticRegression()\n",
    "lr.fit(x_train,y_train)\n",
    "y_pred=lr.predict(x_test)\n",
    "print(classification_report(y_test,y_pred))\n",
    "print(accuracy_score(y_test,y_pred))"
   ]
  },
  {
   "cell_type": "code",
   "execution_count": null,
   "id": "d8c39be9",
   "metadata": {},
   "outputs": [
    {
     "data": {
      "text/plain": [
       "0.9072926596758818"
      ]
     },
     "execution_count": 43,
     "metadata": {},
     "output_type": "execute_result"
    }
   ],
   "source": [
    "lr_acc=accuracy_score(y_test,y_pred)\n",
    "lr_acc"
   ]
  },
  {
   "cell_type": "code",
   "execution_count": null,
   "id": "499520f1",
   "metadata": {},
   "outputs": [
    {
     "data": {
      "text/html": [
       "<div>\n",
       "<style scoped>\n",
       "    .dataframe tbody tr th:only-of-type {\n",
       "        vertical-align: middle;\n",
       "    }\n",
       "\n",
       "    .dataframe tbody tr th {\n",
       "        vertical-align: top;\n",
       "    }\n",
       "\n",
       "    .dataframe thead th {\n",
       "        text-align: right;\n",
       "    }\n",
       "</style>\n",
       "<table border=\"1\" class=\"dataframe\">\n",
       "  <thead>\n",
       "    <tr style=\"text-align: right;\">\n",
       "      <th></th>\n",
       "      <th>Model</th>\n",
       "      <th>Score</th>\n",
       "    </tr>\n",
       "  </thead>\n",
       "  <tbody>\n",
       "    <tr>\n",
       "      <th>0</th>\n",
       "      <td>Support Vector Machine</td>\n",
       "      <td>0.910033</td>\n",
       "    </tr>\n",
       "    <tr>\n",
       "      <th>1</th>\n",
       "      <td>Decision Tree</td>\n",
       "      <td>0.814228</td>\n",
       "    </tr>\n",
       "    <tr>\n",
       "      <th>2</th>\n",
       "      <td>RandomForest</td>\n",
       "      <td>0.884175</td>\n",
       "    </tr>\n",
       "    <tr>\n",
       "      <th>3</th>\n",
       "      <td>AdaBoost</td>\n",
       "      <td>0.861773</td>\n",
       "    </tr>\n",
       "    <tr>\n",
       "      <th>4</th>\n",
       "      <td>GradientBoosting</td>\n",
       "      <td>0.860462</td>\n",
       "    </tr>\n",
       "    <tr>\n",
       "      <th>5</th>\n",
       "      <td>Logistic Regression</td>\n",
       "      <td>0.907293</td>\n",
       "    </tr>\n",
       "  </tbody>\n",
       "</table>\n",
       "</div>"
      ],
      "text/plain": [
       "                    Model     Score\n",
       "0  Support Vector Machine  0.910033\n",
       "1           Decision Tree  0.814228\n",
       "2            RandomForest  0.884175\n",
       "3                AdaBoost  0.861773\n",
       "4        GradientBoosting  0.860462\n",
       "5     Logistic Regression  0.907293"
      ]
     },
     "execution_count": 52,
     "metadata": {},
     "output_type": "execute_result"
    }
   ],
   "source": [
    "model = pd.DataFrame({'Model':['Support Vector Machine','Decision Tree','RandomForest',\n",
    "                              'AdaBoost','GradientBoosting','Logistic Regression'],\n",
    "                     'Score':[sv_acc,dt_acc,Rf_acc,ab_acc,gb_acc,lr_acc],\n",
    "                      })\n",
    "model"
   ]
  },
  {
   "cell_type": "code",
   "execution_count": null,
   "id": "39a0652f",
   "metadata": {},
   "outputs": [
    {
     "name": "stdout",
     "output_type": "stream",
     "text": [
      "Positive\n"
     ]
    }
   ],
   "source": [
    "y_new=sv.predict(tf.transform([\"I'm overwhelmed with anxiety about the future.\"]))\n",
    "if y_new==1:\n",
    "    print(\"Positive\")\n",
    "if y_new==0:\n",
    "    print(\"Negative\")\n",
    "\n"
   ]
  },
  {
   "cell_type": "code",
   "execution_count": null,
   "id": "76d6ec07",
   "metadata": {},
   "outputs": [
    {
     "name": "stdout",
     "output_type": "stream",
     "text": [
      "Negative\n"
     ]
    }
   ],
   "source": [
    "y_new=sv.predict(tf.transform([\"I had a great time with friends last night.\"]))\n",
    "if y_new==1:\n",
    "    print(\"Positive\")\n",
    "if y_new==0:    print(\"Negative\")\n"
   ]
  },
  {
   "cell_type": "code",
   "execution_count": null,
   "id": "8e687b36",
   "metadata": {},
   "outputs": [],
   "source": [
    "import pickle\n",
    "import warnings\n",
    "pickle.dump(sv,open(\"model.pkl\" , \"wb\"))"
   ]
  },
  {
   "cell_type": "code",
   "execution_count": null,
   "id": "dfa95889",
   "metadata": {},
   "outputs": [],
   "source": []
  }
 ],
 "metadata": {
  "kernelspec": {
   "display_name": "venv",
   "language": "python",
   "name": "python3"
  },
  "language_info": {
   "codemirror_mode": {
    "name": "ipython",
    "version": 3
   },
   "file_extension": ".py",
   "mimetype": "text/x-python",
   "name": "python",
   "nbconvert_exporter": "python",
   "pygments_lexer": "ipython3",
   "version": "3.12.4"
  }
 },
 "nbformat": 4,
 "nbformat_minor": 5
}
